{
  "nbformat": 4,
  "nbformat_minor": 0,
  "metadata": {
    "colab": {
      "provenance": []
    },
    "kernelspec": {
      "name": "python3",
      "display_name": "Python 3"
    },
    "language_info": {
      "name": "python"
    }
  },
  "cells": [
    {
      "cell_type": "code",
      "execution_count": null,
      "metadata": {
        "id": "GQoial_1YoS5"
      },
      "outputs": [],
      "source": []
    },
    {
      "cell_type": "code",
      "source": [
        "import spacy\n",
        "nlp = spacy.load('en_core_web_sm')\n"
      ],
      "metadata": {
        "id": "iBipMRY7evT6"
      },
      "execution_count": 5,
      "outputs": []
    },
    {
      "cell_type": "code",
      "source": [],
      "metadata": {
        "id": "bADEhOPX7YvG"
      },
      "execution_count": null,
      "outputs": []
    },
    {
      "cell_type": "code",
      "source": [
        "!python -m spacy download en_core_web_sm\n",
        "import spacy\n",
        "from spacy.lang.en.stop_words import STOP_WORDS\n",
        "from string import punctuation\n",
        "stopwords = list(STOP_WORDS)\n",
        "nlp = spacy.load('en_core_web_sm')\n",
        "with open('file.txt', 'r') as file:\n",
        "    # Read the content\n",
        "    content = file.read()\n",
        "doc = nlp(content)\n"
      ],
      "metadata": {
        "colab": {
          "base_uri": "https://localhost:8080/"
        },
        "id": "sd9QEL-Jn8p9",
        "outputId": "3f6d14ec-502d-44bc-cd38-2340a040fa3b"
      },
      "execution_count": 6,
      "outputs": [
        {
          "output_type": "stream",
          "name": "stdout",
          "text": [
            "Collecting en-core-web-sm==3.7.1\n",
            "  Downloading https://github.com/explosion/spacy-models/releases/download/en_core_web_sm-3.7.1/en_core_web_sm-3.7.1-py3-none-any.whl (12.8 MB)\n",
            "\u001b[2K     \u001b[90m━━━━━━━━━━━━━━━━━━━━━━━━━━━━━━━━━━━━━━━━\u001b[0m \u001b[32m12.8/12.8 MB\u001b[0m \u001b[31m23.4 MB/s\u001b[0m eta \u001b[36m0:00:00\u001b[0m\n",
            "\u001b[?25hRequirement already satisfied: spacy<3.8.0,>=3.7.2 in /usr/local/lib/python3.10/dist-packages (from en-core-web-sm==3.7.1) (3.7.4)\n",
            "Requirement already satisfied: spacy-legacy<3.1.0,>=3.0.11 in /usr/local/lib/python3.10/dist-packages (from spacy<3.8.0,>=3.7.2->en-core-web-sm==3.7.1) (3.0.12)\n",
            "Requirement already satisfied: spacy-loggers<2.0.0,>=1.0.0 in /usr/local/lib/python3.10/dist-packages (from spacy<3.8.0,>=3.7.2->en-core-web-sm==3.7.1) (1.0.5)\n",
            "Requirement already satisfied: murmurhash<1.1.0,>=0.28.0 in /usr/local/lib/python3.10/dist-packages (from spacy<3.8.0,>=3.7.2->en-core-web-sm==3.7.1) (1.0.10)\n",
            "Requirement already satisfied: cymem<2.1.0,>=2.0.2 in /usr/local/lib/python3.10/dist-packages (from spacy<3.8.0,>=3.7.2->en-core-web-sm==3.7.1) (2.0.8)\n",
            "Requirement already satisfied: preshed<3.1.0,>=3.0.2 in /usr/local/lib/python3.10/dist-packages (from spacy<3.8.0,>=3.7.2->en-core-web-sm==3.7.1) (3.0.9)\n",
            "Requirement already satisfied: thinc<8.3.0,>=8.2.2 in /usr/local/lib/python3.10/dist-packages (from spacy<3.8.0,>=3.7.2->en-core-web-sm==3.7.1) (8.2.3)\n",
            "Requirement already satisfied: wasabi<1.2.0,>=0.9.1 in /usr/local/lib/python3.10/dist-packages (from spacy<3.8.0,>=3.7.2->en-core-web-sm==3.7.1) (1.1.2)\n",
            "Requirement already satisfied: srsly<3.0.0,>=2.4.3 in /usr/local/lib/python3.10/dist-packages (from spacy<3.8.0,>=3.7.2->en-core-web-sm==3.7.1) (2.4.8)\n",
            "Requirement already satisfied: catalogue<2.1.0,>=2.0.6 in /usr/local/lib/python3.10/dist-packages (from spacy<3.8.0,>=3.7.2->en-core-web-sm==3.7.1) (2.0.10)\n",
            "Requirement already satisfied: weasel<0.4.0,>=0.1.0 in /usr/local/lib/python3.10/dist-packages (from spacy<3.8.0,>=3.7.2->en-core-web-sm==3.7.1) (0.3.4)\n",
            "Requirement already satisfied: typer<0.10.0,>=0.3.0 in /usr/local/lib/python3.10/dist-packages (from spacy<3.8.0,>=3.7.2->en-core-web-sm==3.7.1) (0.9.4)\n",
            "Requirement already satisfied: smart-open<7.0.0,>=5.2.1 in /usr/local/lib/python3.10/dist-packages (from spacy<3.8.0,>=3.7.2->en-core-web-sm==3.7.1) (6.4.0)\n",
            "Requirement already satisfied: tqdm<5.0.0,>=4.38.0 in /usr/local/lib/python3.10/dist-packages (from spacy<3.8.0,>=3.7.2->en-core-web-sm==3.7.1) (4.66.2)\n",
            "Requirement already satisfied: requests<3.0.0,>=2.13.0 in /usr/local/lib/python3.10/dist-packages (from spacy<3.8.0,>=3.7.2->en-core-web-sm==3.7.1) (2.31.0)\n",
            "Requirement already satisfied: pydantic!=1.8,!=1.8.1,<3.0.0,>=1.7.4 in /usr/local/lib/python3.10/dist-packages (from spacy<3.8.0,>=3.7.2->en-core-web-sm==3.7.1) (2.7.1)\n",
            "Requirement already satisfied: jinja2 in /usr/local/lib/python3.10/dist-packages (from spacy<3.8.0,>=3.7.2->en-core-web-sm==3.7.1) (3.1.3)\n",
            "Requirement already satisfied: setuptools in /usr/local/lib/python3.10/dist-packages (from spacy<3.8.0,>=3.7.2->en-core-web-sm==3.7.1) (67.7.2)\n",
            "Requirement already satisfied: packaging>=20.0 in /usr/local/lib/python3.10/dist-packages (from spacy<3.8.0,>=3.7.2->en-core-web-sm==3.7.1) (24.0)\n",
            "Requirement already satisfied: langcodes<4.0.0,>=3.2.0 in /usr/local/lib/python3.10/dist-packages (from spacy<3.8.0,>=3.7.2->en-core-web-sm==3.7.1) (3.4.0)\n",
            "Requirement already satisfied: numpy>=1.19.0 in /usr/local/lib/python3.10/dist-packages (from spacy<3.8.0,>=3.7.2->en-core-web-sm==3.7.1) (1.25.2)\n",
            "Requirement already satisfied: language-data>=1.2 in /usr/local/lib/python3.10/dist-packages (from langcodes<4.0.0,>=3.2.0->spacy<3.8.0,>=3.7.2->en-core-web-sm==3.7.1) (1.2.0)\n",
            "Requirement already satisfied: annotated-types>=0.4.0 in /usr/local/lib/python3.10/dist-packages (from pydantic!=1.8,!=1.8.1,<3.0.0,>=1.7.4->spacy<3.8.0,>=3.7.2->en-core-web-sm==3.7.1) (0.6.0)\n",
            "Requirement already satisfied: pydantic-core==2.18.2 in /usr/local/lib/python3.10/dist-packages (from pydantic!=1.8,!=1.8.1,<3.0.0,>=1.7.4->spacy<3.8.0,>=3.7.2->en-core-web-sm==3.7.1) (2.18.2)\n",
            "Requirement already satisfied: typing-extensions>=4.6.1 in /usr/local/lib/python3.10/dist-packages (from pydantic!=1.8,!=1.8.1,<3.0.0,>=1.7.4->spacy<3.8.0,>=3.7.2->en-core-web-sm==3.7.1) (4.11.0)\n",
            "Requirement already satisfied: charset-normalizer<4,>=2 in /usr/local/lib/python3.10/dist-packages (from requests<3.0.0,>=2.13.0->spacy<3.8.0,>=3.7.2->en-core-web-sm==3.7.1) (3.3.2)\n",
            "Requirement already satisfied: idna<4,>=2.5 in /usr/local/lib/python3.10/dist-packages (from requests<3.0.0,>=2.13.0->spacy<3.8.0,>=3.7.2->en-core-web-sm==3.7.1) (3.7)\n",
            "Requirement already satisfied: urllib3<3,>=1.21.1 in /usr/local/lib/python3.10/dist-packages (from requests<3.0.0,>=2.13.0->spacy<3.8.0,>=3.7.2->en-core-web-sm==3.7.1) (2.0.7)\n",
            "Requirement already satisfied: certifi>=2017.4.17 in /usr/local/lib/python3.10/dist-packages (from requests<3.0.0,>=2.13.0->spacy<3.8.0,>=3.7.2->en-core-web-sm==3.7.1) (2024.2.2)\n",
            "Requirement already satisfied: blis<0.8.0,>=0.7.8 in /usr/local/lib/python3.10/dist-packages (from thinc<8.3.0,>=8.2.2->spacy<3.8.0,>=3.7.2->en-core-web-sm==3.7.1) (0.7.11)\n",
            "Requirement already satisfied: confection<1.0.0,>=0.0.1 in /usr/local/lib/python3.10/dist-packages (from thinc<8.3.0,>=8.2.2->spacy<3.8.0,>=3.7.2->en-core-web-sm==3.7.1) (0.1.4)\n",
            "Requirement already satisfied: click<9.0.0,>=7.1.1 in /usr/local/lib/python3.10/dist-packages (from typer<0.10.0,>=0.3.0->spacy<3.8.0,>=3.7.2->en-core-web-sm==3.7.1) (8.1.7)\n",
            "Requirement already satisfied: cloudpathlib<0.17.0,>=0.7.0 in /usr/local/lib/python3.10/dist-packages (from weasel<0.4.0,>=0.1.0->spacy<3.8.0,>=3.7.2->en-core-web-sm==3.7.1) (0.16.0)\n",
            "Requirement already satisfied: MarkupSafe>=2.0 in /usr/local/lib/python3.10/dist-packages (from jinja2->spacy<3.8.0,>=3.7.2->en-core-web-sm==3.7.1) (2.1.5)\n",
            "Requirement already satisfied: marisa-trie>=0.7.7 in /usr/local/lib/python3.10/dist-packages (from language-data>=1.2->langcodes<4.0.0,>=3.2.0->spacy<3.8.0,>=3.7.2->en-core-web-sm==3.7.1) (1.1.0)\n",
            "\u001b[38;5;2m✔ Download and installation successful\u001b[0m\n",
            "You can now load the package via spacy.load('en_core_web_sm')\n",
            "\u001b[38;5;3m⚠ Restart to reload dependencies\u001b[0m\n",
            "If you are in a Jupyter or Colab notebook, you may need to restart Python in\n",
            "order to load all the package's dependencies. You can do this by selecting the\n",
            "'Restart kernel' or 'Restart runtime' option.\n"
          ]
        }
      ]
    },
    {
      "cell_type": "code",
      "source": [
        "# Open the file\n",
        "with open('file.txt', 'r') as file:\n",
        "    # Read the content\n",
        "    content = file.read()\n",
        "\n",
        "# Define punctuation marks\n",
        "punctuation_marks = '''!()-[]{};:'\"\\,<>./?@#$%^&*_~'''\n",
        "\n",
        "# Remove punctuation while preserving line breaks\n",
        "content_without_punctuation = ''.join(char if char not in punctuation_marks or char == '\\n' else ' ' for char in content)\n",
        "\n",
        "# Output the content without punctuation\n",
        "print(content_without_punctuation)\n"
      ],
      "metadata": {
        "colab": {
          "base_uri": "https://localhost:8080/"
        },
        "id": "Wpjsp_6FfDFA",
        "outputId": "4fe21e33-b7ec-4bc2-d4f6-2be55f8e3fb2"
      },
      "execution_count": 7,
      "outputs": [
        {
          "output_type": "stream",
          "name": "stdout",
          "text": [
            "So it all starts with what the Subconscious Mind is all about  how it works  where your mind is the captain of your ship  your body is your environment and the Subconscious part takes order from the captain or the master of this ship \n",
            "Now it s totally upto the one how and by which means to take order and to proceed with \n",
            "\n",
            "You think with your conscious mind    whatever you habitually think goes into your Subconscious Mind  Your Subconscious Mind accepts any suggestion  no matter if it s true or false and so is the different reaction to the same suggestion  What all matter is what suggestions you are taking up to  Your Subconscious has the answer to all problems  IF you suggest to your Subconscious prior to sleep  “I want to get up at 6 A M  ” it will awaken you at that exact time \n",
            "\n",
            "The day we are born  we are bombarded with the tons of negative thoughts suggestions  whereas not knowing them how to counter them  we unconsciously accept them and so it lead us to those worst scenarios circumstances \n",
            "Your Subconscious is your book of life  so how you write it from the day one  matters all \n",
            "Mental healing in the ancient vs the modern times  almost works the same  whereas the Law of life is belief what do you believe about yourself  life and the universe as  It is done unto you as you believe \n",
            "\n",
            "The vital step to success is to firstly find out what you love to do and then do it what you love  In that case  if you really don’t know what you really love to do  what you want to achieve  or how on earth do you find a field of effort that you will love so pray for guidance in this way \n",
            " The infinite intelligence of my Subconscious Mind reveals to me my true place in life  \n",
            "\n",
            "Your Subconscious Mind never sleep or rest  it is always active  controlling all your vital forces  However the healing process takes place takes more rapidly while you are asleep \n",
            "So trust your Subconscious Mind completely  know that its tendency is always life wards  It responds you in very vivid dreams \n",
            "\n",
            "Diets  multivitamins and supports of all kinds will not keep these people young  They must realize that they grow old or remain young in accordance with their processes of thinking  Your subconscious mind is conditioned by your thoughts  If your thoughts are constantly on the beautiful  the Noble and the good  you will remain spiritually young regardless of your chronological years \n",
            "A woman once asked Thomas Edison  the electrical wizard  What is electricity \n",
            "He replied  Madame  electricity is  USE IT \n",
            "So same applies to life as well \n",
            "\n",
            "You cannot see your mind  but you know what have a mind  You cannot see a spirit  but you know you have the spirit of game  Likewise  the spirit of goodness  truth and beauty moving in your mind and heart are real \n",
            "Believe in yourself   you can definitely do wonders \n",
            "Feed your subconscious mind with the positivity  you re the only thinker of your universe   your thoughts are creative    so creativity happens every time  Your subconscious mind is the builder of the body   can heal you \n"
          ]
        }
      ]
    },
    {
      "cell_type": "code",
      "source": [
        "# Define a sample text\n",
        "sample_text = content\n",
        "\n",
        "# Tokenize the text into words\n",
        "words = sample_text.split()\n",
        "\n",
        "# Calculate word frequencies\n",
        "word_frequencies = {}\n",
        "for word in words:\n",
        "    if word in word_frequencies:\n",
        "        word_frequencies[word] += 1\n",
        "    else:\n",
        "        word_frequencies[word] = 1\n",
        "\n",
        "# Calculate the maximum frequency\n",
        "max_frequency = max(word_frequencies.values())\n",
        "\n",
        "# Normalize the frequencies\n",
        "for word in word_frequencies:\n",
        "    word_frequencies[word] = word_frequencies[word] / max_frequency\n",
        "\n",
        "# Print the normalized frequencies\n",
        "print(word_frequencies)\n"
      ],
      "metadata": {
        "colab": {
          "base_uri": "https://localhost:8080/"
        },
        "id": "eyK1Jjwrhu4k",
        "outputId": "5789f8f0-0229-4fa9-e593-9d744c834b0e"
      },
      "execution_count": 8,
      "outputs": [
        {
          "output_type": "stream",
          "name": "stdout",
          "text": [
            "{'So': 0.1111111111111111, 'it': 0.25925925925925924, 'all': 0.2222222222222222, 'starts': 0.037037037037037035, 'with': 0.18518518518518517, 'what': 0.2962962962962963, 'the': 1.0, 'Subconscious': 0.37037037037037035, 'Mind': 0.18518518518518517, 'is': 0.5185185185185185, 'about,': 0.037037037037037035, 'how': 0.18518518518518517, 'works,': 0.037037037037037035, 'where': 0.037037037037037035, 'your': 0.6666666666666666, 'mind': 0.18518518518518517, 'captain': 0.07407407407407407, 'of': 0.5185185185185185, 'ship,': 0.037037037037037035, 'body': 0.07407407407407407, 'environment': 0.037037037037037035, 'and': 0.4074074074074074, 'part': 0.037037037037037035, 'takes': 0.1111111111111111, 'order': 0.07407407407407407, 'from': 0.07407407407407407, 'or': 0.18518518518518517, 'master': 0.037037037037037035, 'this': 0.07407407407407407, 'ship.': 0.037037037037037035, 'Now': 0.037037037037037035, \"it's\": 0.07407407407407407, 'totally': 0.037037037037037035, 'upto': 0.037037037037037035, 'one': 0.037037037037037035, 'by': 0.07407407407407407, 'which': 0.037037037037037035, 'means': 0.037037037037037035, 'to': 0.5925925925925926, 'take': 0.037037037037037035, 'proceed': 0.037037037037037035, 'with.': 0.037037037037037035, 'You': 0.1111111111111111, 'think': 0.07407407407407407, 'conscious': 0.037037037037037035, 'mind,': 0.07407407407407407, '&': 0.18518518518518517, 'whatever': 0.037037037037037035, 'you': 0.8148148148148148, 'habitually': 0.037037037037037035, 'goes': 0.037037037037037035, 'into': 0.037037037037037035, 'Mind.': 0.037037037037037035, 'Your': 0.2222222222222222, 'accepts': 0.037037037037037035, 'any': 0.037037037037037035, 'suggestion,': 0.037037037037037035, 'no': 0.037037037037037035, 'matter': 0.07407407407407407, 'if': 0.07407407407407407, 'true': 0.07407407407407407, 'false': 0.037037037037037035, 'so': 0.18518518518518517, 'different': 0.037037037037037035, 'reaction': 0.037037037037037035, 'same': 0.07407407407407407, 'suggestion.': 0.037037037037037035, 'What': 0.037037037037037035, 'suggestions': 0.037037037037037035, 'are': 0.25925925925925924, 'taking': 0.037037037037037035, 'up': 0.07407407407407407, 'to?': 0.037037037037037035, 'has': 0.037037037037037035, 'answer': 0.037037037037037035, 'problems.': 0.037037037037037035, 'IF': 0.037037037037037035, 'suggest': 0.037037037037037035, 'prior': 0.037037037037037035, 'sleep,': 0.037037037037037035, '“I': 0.037037037037037035, 'want': 0.07407407407407407, 'get': 0.037037037037037035, 'at': 0.07407407407407407, '6': 0.037037037037037035, 'A.M.,”': 0.037037037037037035, 'will': 0.14814814814814814, 'awaken': 0.037037037037037035, 'that': 0.18518518518518517, 'exact': 0.037037037037037035, 'time.': 0.07407407407407407, 'The': 0.07407407407407407, 'day': 0.07407407407407407, 'we': 0.1111111111111111, 'born,': 0.037037037037037035, 'bombarded': 0.037037037037037035, 'tons': 0.037037037037037035, 'negative': 0.037037037037037035, 'thoughts/suggestions,': 0.037037037037037035, 'whereas': 0.07407407407407407, 'not': 0.07407407407407407, 'knowing': 0.037037037037037035, 'them': 0.07407407407407407, 'counter': 0.037037037037037035, 'them,': 0.037037037037037035, 'unconsciously': 0.037037037037037035, 'accept': 0.037037037037037035, 'lead': 0.037037037037037035, 'us': 0.037037037037037035, 'those': 0.037037037037037035, 'worst': 0.037037037037037035, 'scenarios/circumstances.': 0.037037037037037035, 'book': 0.037037037037037035, 'life,': 0.037037037037037035, 'write': 0.037037037037037035, 'one,': 0.037037037037037035, 'matters': 0.037037037037037035, 'all.': 0.037037037037037035, 'Mental': 0.037037037037037035, 'healing': 0.07407407407407407, 'in': 0.25925925925925924, 'ancient': 0.037037037037037035, 'vs': 0.037037037037037035, 'modern': 0.037037037037037035, 'times,': 0.037037037037037035, 'almost': 0.037037037037037035, 'works': 0.037037037037037035, 'same,': 0.037037037037037035, 'Law': 0.037037037037037035, 'life': 0.14814814814814814, 'belief': 0.037037037037037035, 'do': 0.18518518518518517, 'believe': 0.037037037037037035, 'about': 0.037037037037037035, 'yourself,': 0.037037037037037035, 'universe': 0.07407407407407407, 'as': 0.1111111111111111, '\"It': 0.037037037037037035, 'done': 0.037037037037037035, 'unto': 0.037037037037037035, 'believe\"': 0.037037037037037035, 'vital': 0.07407407407407407, 'step': 0.037037037037037035, 'success': 0.037037037037037035, 'firstly': 0.037037037037037035, 'find': 0.07407407407407407, 'out': 0.037037037037037035, 'love': 0.1111111111111111, 'then': 0.037037037037037035, 'love.': 0.037037037037037035, 'In': 0.037037037037037035, 'case,': 0.037037037037037035, 'really': 0.07407407407407407, 'don’t': 0.037037037037037035, 'know': 0.14814814814814814, 'do,': 0.037037037037037035, 'achieve,': 0.037037037037037035, 'on': 0.07407407407407407, 'earth': 0.037037037037037035, 'a': 0.1111111111111111, 'field': 0.037037037037037035, 'effort': 0.037037037037037035, 'pray': 0.037037037037037035, 'for': 0.037037037037037035, 'guidance': 0.037037037037037035, 'way,': 0.037037037037037035, '\"The': 0.037037037037037035, 'infinite': 0.037037037037037035, 'intelligence': 0.037037037037037035, 'my': 0.07407407407407407, 'reveals': 0.037037037037037035, 'me': 0.037037037037037035, 'place': 0.07407407407407407, 'life.\"': 0.037037037037037035, 'never': 0.037037037037037035, 'sleep': 0.037037037037037035, 'rest,': 0.037037037037037035, 'always': 0.07407407407407407, 'active,': 0.037037037037037035, 'controlling': 0.037037037037037035, 'forces.': 0.037037037037037035, 'However': 0.037037037037037035, 'process': 0.037037037037037035, 'more': 0.037037037037037035, 'rapidly': 0.037037037037037035, 'while': 0.037037037037037035, 'asleep.': 0.037037037037037035, 'trust': 0.037037037037037035, 'completely,': 0.037037037037037035, 'its': 0.037037037037037035, 'tendency': 0.037037037037037035, 'wards.': 0.037037037037037035, 'It': 0.037037037037037035, 'responds': 0.037037037037037035, 'very': 0.037037037037037035, 'vivid': 0.037037037037037035, 'dreams.': 0.037037037037037035, 'Diets,': 0.037037037037037035, 'multivitamins': 0.037037037037037035, 'supports': 0.037037037037037035, 'kinds': 0.037037037037037035, 'keep': 0.037037037037037035, 'these': 0.037037037037037035, 'people': 0.037037037037037035, 'young.': 0.037037037037037035, 'They': 0.037037037037037035, 'must': 0.037037037037037035, 'realize': 0.037037037037037035, 'they': 0.037037037037037035, 'grow': 0.037037037037037035, 'old': 0.037037037037037035, 'remain': 0.07407407407407407, 'young': 0.07407407407407407, 'accordance': 0.037037037037037035, 'their': 0.037037037037037035, 'processes': 0.037037037037037035, 'thinking.': 0.037037037037037035, 'subconscious': 0.1111111111111111, 'conditioned': 0.037037037037037035, 'thoughts.': 0.037037037037037035, 'If': 0.037037037037037035, 'thoughts': 0.07407407407407407, 'constantly': 0.037037037037037035, 'beautiful,': 0.037037037037037035, 'Noble': 0.037037037037037035, 'good,': 0.037037037037037035, 'spiritually': 0.037037037037037035, 'regardless': 0.037037037037037035, 'chronological': 0.037037037037037035, 'years.': 0.037037037037037035, 'A': 0.037037037037037035, 'woman': 0.037037037037037035, 'once': 0.037037037037037035, 'asked': 0.037037037037037035, 'Thomas': 0.037037037037037035, 'Edison,': 0.037037037037037035, 'electrical': 0.037037037037037035, 'wizard': 0.037037037037037035, '\"What': 0.037037037037037035, 'electricity\"': 0.037037037037037035, 'He': 0.037037037037037035, 'replied': 0.037037037037037035, '\"Madame,': 0.037037037037037035, 'electricity': 0.037037037037037035, 'is,': 0.037037037037037035, 'USE': 0.037037037037037035, 'IT\"': 0.037037037037037035, 'applies': 0.037037037037037035, 'well.': 0.037037037037037035, 'cannot': 0.07407407407407407, 'see': 0.07407407407407407, 'but': 0.07407407407407407, 'have': 0.07407407407407407, 'mind.': 0.037037037037037035, 'spirit,': 0.037037037037037035, 'spirit': 0.07407407407407407, 'game.': 0.037037037037037035, 'Likewise,': 0.037037037037037035, 'goodness,': 0.037037037037037035, 'truth': 0.037037037037037035, 'beauty': 0.037037037037037035, 'moving': 0.037037037037037035, 'heart': 0.037037037037037035, 'real.': 0.037037037037037035, 'Believe': 0.037037037037037035, 'yourself': 0.037037037037037035, 'can': 0.07407407407407407, 'definitely': 0.037037037037037035, 'wonders.': 0.037037037037037035, 'Feed': 0.037037037037037035, 'positivity,': 0.037037037037037035, \"you're\": 0.037037037037037035, 'only': 0.037037037037037035, 'thinker': 0.037037037037037035, 'creative,': 0.037037037037037035, 'creativity': 0.037037037037037035, 'happens': 0.037037037037037035, 'every': 0.037037037037037035, 'builder': 0.037037037037037035, 'heal': 0.037037037037037035, 'you.': 0.037037037037037035}\n"
          ]
        }
      ]
    },
    {
      "cell_type": "code",
      "source": [
        "try:\n",
        "    # Open the text file\n",
        "    with open('/content/file.txt', 'r') as file:\n",
        "        #Read the content\n",
        "        text = file.read()\n",
        "\n",
        "    # Tokenize the text into words\n",
        "    words = text.split()\n",
        "    # print(words)\n",
        "\n",
        "    # Create a dictionary to store word frequencies\n",
        "    word_frequencies = {}\n",
        "    for word in words:\n",
        "        # Remove punctuation and convert to lowercase\n",
        "        word = word.strip('.,!?;:()[]{}\\'\"').lower()\n",
        "        # Update the word frequency count\n",
        "        if word:\n",
        "            if word in word_frequencies:\n",
        "                word_frequencies[word] += 1\n",
        "            else:\n",
        "                word_frequencies[word] = 1\n",
        "\n",
        "    # Print the word frequency table\n",
        "    print(\"Word\\t\\tFrequency\")\n",
        "    print(\"---------------------\")\n",
        "    for word, frequency in word_frequencies.items():\n",
        "        print(f\"{word.ljust(15)}\\t{frequency}\")\n",
        "\n",
        "except FileNotFoundError:\n",
        "    print(\"File not found. Please check the file path.\")\n"
      ],
      "metadata": {
        "colab": {
          "base_uri": "https://localhost:8080/"
        },
        "id": "4mjPSGDhjiDe",
        "outputId": "b0054b5f-0bb9-4162-916c-0ca6e96a03c7"
      },
      "execution_count": 9,
      "outputs": [
        {
          "output_type": "stream",
          "name": "stdout",
          "text": [
            "Word\t\tFrequency\n",
            "---------------------\n",
            "so             \t8\n",
            "it             \t10\n",
            "all            \t7\n",
            "starts         \t1\n",
            "with           \t6\n",
            "what           \t10\n",
            "the            \t30\n",
            "subconscious   \t13\n",
            "mind           \t14\n",
            "is             \t15\n",
            "about          \t2\n",
            "how            \t5\n",
            "works          \t2\n",
            "where          \t1\n",
            "your           \t24\n",
            "captain        \t2\n",
            "of             \t14\n",
            "ship           \t2\n",
            "body           \t2\n",
            "environment    \t1\n",
            "and            \t11\n",
            "part           \t1\n",
            "takes          \t3\n",
            "order          \t2\n",
            "from           \t2\n",
            "or             \t5\n",
            "master         \t1\n",
            "this           \t2\n",
            "now            \t1\n",
            "it's           \t2\n",
            "totally        \t1\n",
            "upto           \t1\n",
            "one            \t2\n",
            "by             \t2\n",
            "which          \t1\n",
            "means          \t1\n",
            "to             \t17\n",
            "take           \t1\n",
            "proceed        \t1\n",
            "you            \t26\n",
            "think          \t2\n",
            "conscious      \t1\n",
            "&              \t5\n",
            "whatever       \t1\n",
            "habitually     \t1\n",
            "goes           \t1\n",
            "into           \t1\n",
            "accepts        \t1\n",
            "any            \t1\n",
            "suggestion     \t2\n",
            "no             \t1\n",
            "matter         \t2\n",
            "if             \t4\n",
            "true           \t2\n",
            "false          \t1\n",
            "different      \t1\n",
            "reaction       \t1\n",
            "same           \t3\n",
            "suggestions    \t1\n",
            "are            \t7\n",
            "taking         \t1\n",
            "up             \t2\n",
            "has            \t1\n",
            "answer         \t1\n",
            "problems       \t1\n",
            "suggest        \t1\n",
            "prior          \t1\n",
            "sleep          \t2\n",
            "“i             \t1\n",
            "want           \t2\n",
            "get            \t1\n",
            "at             \t2\n",
            "6              \t1\n",
            "a.m.,”         \t1\n",
            "will           \t4\n",
            "awaken         \t1\n",
            "that           \t5\n",
            "exact          \t1\n",
            "time           \t2\n",
            "day            \t2\n",
            "we             \t3\n",
            "born           \t1\n",
            "bombarded      \t1\n",
            "tons           \t1\n",
            "negative       \t1\n",
            "thoughts/suggestions\t1\n",
            "whereas        \t2\n",
            "not            \t2\n",
            "knowing        \t1\n",
            "them           \t3\n",
            "counter        \t1\n",
            "unconsciously  \t1\n",
            "accept         \t1\n",
            "lead           \t1\n",
            "us             \t1\n",
            "those          \t1\n",
            "worst          \t1\n",
            "scenarios/circumstances\t1\n",
            "book           \t1\n",
            "life           \t6\n",
            "write          \t1\n",
            "matters        \t1\n",
            "mental         \t1\n",
            "healing        \t2\n",
            "in             \t8\n",
            "ancient        \t1\n",
            "vs             \t1\n",
            "modern         \t1\n",
            "times          \t1\n",
            "almost         \t1\n",
            "law            \t1\n",
            "belief         \t1\n",
            "do             \t6\n",
            "believe        \t3\n",
            "yourself       \t2\n",
            "universe       \t2\n",
            "as             \t3\n",
            "done           \t1\n",
            "unto           \t1\n",
            "vital          \t2\n",
            "step           \t1\n",
            "success        \t1\n",
            "firstly        \t1\n",
            "find           \t2\n",
            "out            \t1\n",
            "love           \t4\n",
            "then           \t1\n",
            "case           \t1\n",
            "really         \t2\n",
            "don’t          \t1\n",
            "know           \t4\n",
            "achieve        \t1\n",
            "on             \t2\n",
            "earth          \t1\n",
            "a              \t4\n",
            "field          \t1\n",
            "effort         \t1\n",
            "pray           \t1\n",
            "for            \t1\n",
            "guidance       \t1\n",
            "way            \t1\n",
            "infinite       \t1\n",
            "intelligence   \t1\n",
            "my             \t2\n",
            "reveals        \t1\n",
            "me             \t1\n",
            "place          \t2\n",
            "never          \t1\n",
            "rest           \t1\n",
            "always         \t2\n",
            "active         \t1\n",
            "controlling    \t1\n",
            "forces         \t1\n",
            "however        \t1\n",
            "process        \t1\n",
            "more           \t1\n",
            "rapidly        \t1\n",
            "while          \t1\n",
            "asleep         \t1\n",
            "trust          \t1\n",
            "completely     \t1\n",
            "its            \t1\n",
            "tendency       \t1\n",
            "wards          \t1\n",
            "responds       \t1\n",
            "very           \t1\n",
            "vivid          \t1\n",
            "dreams         \t1\n",
            "diets          \t1\n",
            "multivitamins  \t1\n",
            "supports       \t1\n",
            "kinds          \t1\n",
            "keep           \t1\n",
            "these          \t1\n",
            "people         \t1\n",
            "young          \t3\n",
            "they           \t2\n",
            "must           \t1\n",
            "realize        \t1\n",
            "grow           \t1\n",
            "old            \t1\n",
            "remain         \t2\n",
            "accordance     \t1\n",
            "their          \t1\n",
            "processes      \t1\n",
            "thinking       \t1\n",
            "conditioned    \t1\n",
            "thoughts       \t3\n",
            "constantly     \t1\n",
            "beautiful      \t1\n",
            "noble          \t1\n",
            "good           \t1\n",
            "spiritually    \t1\n",
            "regardless     \t1\n",
            "chronological  \t1\n",
            "years          \t1\n",
            "woman          \t1\n",
            "once           \t1\n",
            "asked          \t1\n",
            "thomas         \t1\n",
            "edison         \t1\n",
            "electrical     \t1\n",
            "wizard         \t1\n",
            "electricity    \t2\n",
            "he             \t1\n",
            "replied        \t1\n",
            "madame         \t1\n",
            "use            \t1\n",
            "applies        \t1\n",
            "well           \t1\n",
            "cannot         \t2\n",
            "see            \t2\n",
            "but            \t2\n",
            "have           \t2\n",
            "spirit         \t3\n",
            "game           \t1\n",
            "likewise       \t1\n",
            "goodness       \t1\n",
            "truth          \t1\n",
            "beauty         \t1\n",
            "moving         \t1\n",
            "heart          \t1\n",
            "real           \t1\n",
            "can            \t2\n",
            "definitely     \t1\n",
            "wonders        \t1\n",
            "feed           \t1\n",
            "positivity     \t1\n",
            "you're         \t1\n",
            "only           \t1\n",
            "thinker        \t1\n",
            "creative       \t1\n",
            "creativity     \t1\n",
            "happens        \t1\n",
            "every          \t1\n",
            "builder        \t1\n",
            "heal           \t1\n"
          ]
        }
      ]
    },
    {
      "cell_type": "code",
      "source": [
        "print(word_frequencies)"
      ],
      "metadata": {
        "colab": {
          "base_uri": "https://localhost:8080/"
        },
        "id": "gOaApfY49GxB",
        "outputId": "dfd01026-81a3-4238-8eb7-a92b85259d24"
      },
      "execution_count": 10,
      "outputs": [
        {
          "output_type": "stream",
          "name": "stdout",
          "text": [
            "{'so': 8, 'it': 10, 'all': 7, 'starts': 1, 'with': 6, 'what': 10, 'the': 30, 'subconscious': 13, 'mind': 14, 'is': 15, 'about': 2, 'how': 5, 'works': 2, 'where': 1, 'your': 24, 'captain': 2, 'of': 14, 'ship': 2, 'body': 2, 'environment': 1, 'and': 11, 'part': 1, 'takes': 3, 'order': 2, 'from': 2, 'or': 5, 'master': 1, 'this': 2, 'now': 1, \"it's\": 2, 'totally': 1, 'upto': 1, 'one': 2, 'by': 2, 'which': 1, 'means': 1, 'to': 17, 'take': 1, 'proceed': 1, 'you': 26, 'think': 2, 'conscious': 1, '&': 5, 'whatever': 1, 'habitually': 1, 'goes': 1, 'into': 1, 'accepts': 1, 'any': 1, 'suggestion': 2, 'no': 1, 'matter': 2, 'if': 4, 'true': 2, 'false': 1, 'different': 1, 'reaction': 1, 'same': 3, 'suggestions': 1, 'are': 7, 'taking': 1, 'up': 2, 'has': 1, 'answer': 1, 'problems': 1, 'suggest': 1, 'prior': 1, 'sleep': 2, '“i': 1, 'want': 2, 'get': 1, 'at': 2, '6': 1, 'a.m.,”': 1, 'will': 4, 'awaken': 1, 'that': 5, 'exact': 1, 'time': 2, 'day': 2, 'we': 3, 'born': 1, 'bombarded': 1, 'tons': 1, 'negative': 1, 'thoughts/suggestions': 1, 'whereas': 2, 'not': 2, 'knowing': 1, 'them': 3, 'counter': 1, 'unconsciously': 1, 'accept': 1, 'lead': 1, 'us': 1, 'those': 1, 'worst': 1, 'scenarios/circumstances': 1, 'book': 1, 'life': 6, 'write': 1, 'matters': 1, 'mental': 1, 'healing': 2, 'in': 8, 'ancient': 1, 'vs': 1, 'modern': 1, 'times': 1, 'almost': 1, 'law': 1, 'belief': 1, 'do': 6, 'believe': 3, 'yourself': 2, 'universe': 2, 'as': 3, 'done': 1, 'unto': 1, 'vital': 2, 'step': 1, 'success': 1, 'firstly': 1, 'find': 2, 'out': 1, 'love': 4, 'then': 1, 'case': 1, 'really': 2, 'don’t': 1, 'know': 4, 'achieve': 1, 'on': 2, 'earth': 1, 'a': 4, 'field': 1, 'effort': 1, 'pray': 1, 'for': 1, 'guidance': 1, 'way': 1, 'infinite': 1, 'intelligence': 1, 'my': 2, 'reveals': 1, 'me': 1, 'place': 2, 'never': 1, 'rest': 1, 'always': 2, 'active': 1, 'controlling': 1, 'forces': 1, 'however': 1, 'process': 1, 'more': 1, 'rapidly': 1, 'while': 1, 'asleep': 1, 'trust': 1, 'completely': 1, 'its': 1, 'tendency': 1, 'wards': 1, 'responds': 1, 'very': 1, 'vivid': 1, 'dreams': 1, 'diets': 1, 'multivitamins': 1, 'supports': 1, 'kinds': 1, 'keep': 1, 'these': 1, 'people': 1, 'young': 3, 'they': 2, 'must': 1, 'realize': 1, 'grow': 1, 'old': 1, 'remain': 2, 'accordance': 1, 'their': 1, 'processes': 1, 'thinking': 1, 'conditioned': 1, 'thoughts': 3, 'constantly': 1, 'beautiful': 1, 'noble': 1, 'good': 1, 'spiritually': 1, 'regardless': 1, 'chronological': 1, 'years': 1, 'woman': 1, 'once': 1, 'asked': 1, 'thomas': 1, 'edison': 1, 'electrical': 1, 'wizard': 1, 'electricity': 2, 'he': 1, 'replied': 1, 'madame': 1, 'use': 1, 'applies': 1, 'well': 1, 'cannot': 2, 'see': 2, 'but': 2, 'have': 2, 'spirit': 3, 'game': 1, 'likewise': 1, 'goodness': 1, 'truth': 1, 'beauty': 1, 'moving': 1, 'heart': 1, 'real': 1, 'can': 2, 'definitely': 1, 'wonders': 1, 'feed': 1, 'positivity': 1, \"you're\": 1, 'only': 1, 'thinker': 1, 'creative': 1, 'creativity': 1, 'happens': 1, 'every': 1, 'builder': 1, 'heal': 1}\n"
          ]
        }
      ]
    },
    {
      "cell_type": "code",
      "source": [
        "max_frequency = max(word_frequencies.values())\n",
        "max_frequency\n",
        "for word in word_frequencies.keys():\n",
        "  word_frequencies[word] = word_frequencies[word]/max_frequency\n",
        "print(word_frequencies)\n",
        "sentence_tokens = [sent for sent in doc.sents]\n",
        "print(sentence_tokens)"
      ],
      "metadata": {
        "colab": {
          "base_uri": "https://localhost:8080/"
        },
        "id": "mnjqhPIw9Sqc",
        "outputId": "a54d7c70-72fa-44cc-bf6d-238ebdc1adce"
      },
      "execution_count": 11,
      "outputs": [
        {
          "output_type": "stream",
          "name": "stdout",
          "text": [
            "{'so': 0.26666666666666666, 'it': 0.3333333333333333, 'all': 0.23333333333333334, 'starts': 0.03333333333333333, 'with': 0.2, 'what': 0.3333333333333333, 'the': 1.0, 'subconscious': 0.43333333333333335, 'mind': 0.4666666666666667, 'is': 0.5, 'about': 0.06666666666666667, 'how': 0.16666666666666666, 'works': 0.06666666666666667, 'where': 0.03333333333333333, 'your': 0.8, 'captain': 0.06666666666666667, 'of': 0.4666666666666667, 'ship': 0.06666666666666667, 'body': 0.06666666666666667, 'environment': 0.03333333333333333, 'and': 0.36666666666666664, 'part': 0.03333333333333333, 'takes': 0.1, 'order': 0.06666666666666667, 'from': 0.06666666666666667, 'or': 0.16666666666666666, 'master': 0.03333333333333333, 'this': 0.06666666666666667, 'now': 0.03333333333333333, \"it's\": 0.06666666666666667, 'totally': 0.03333333333333333, 'upto': 0.03333333333333333, 'one': 0.06666666666666667, 'by': 0.06666666666666667, 'which': 0.03333333333333333, 'means': 0.03333333333333333, 'to': 0.5666666666666667, 'take': 0.03333333333333333, 'proceed': 0.03333333333333333, 'you': 0.8666666666666667, 'think': 0.06666666666666667, 'conscious': 0.03333333333333333, '&': 0.16666666666666666, 'whatever': 0.03333333333333333, 'habitually': 0.03333333333333333, 'goes': 0.03333333333333333, 'into': 0.03333333333333333, 'accepts': 0.03333333333333333, 'any': 0.03333333333333333, 'suggestion': 0.06666666666666667, 'no': 0.03333333333333333, 'matter': 0.06666666666666667, 'if': 0.13333333333333333, 'true': 0.06666666666666667, 'false': 0.03333333333333333, 'different': 0.03333333333333333, 'reaction': 0.03333333333333333, 'same': 0.1, 'suggestions': 0.03333333333333333, 'are': 0.23333333333333334, 'taking': 0.03333333333333333, 'up': 0.06666666666666667, 'has': 0.03333333333333333, 'answer': 0.03333333333333333, 'problems': 0.03333333333333333, 'suggest': 0.03333333333333333, 'prior': 0.03333333333333333, 'sleep': 0.06666666666666667, '“i': 0.03333333333333333, 'want': 0.06666666666666667, 'get': 0.03333333333333333, 'at': 0.06666666666666667, '6': 0.03333333333333333, 'a.m.,”': 0.03333333333333333, 'will': 0.13333333333333333, 'awaken': 0.03333333333333333, 'that': 0.16666666666666666, 'exact': 0.03333333333333333, 'time': 0.06666666666666667, 'day': 0.06666666666666667, 'we': 0.1, 'born': 0.03333333333333333, 'bombarded': 0.03333333333333333, 'tons': 0.03333333333333333, 'negative': 0.03333333333333333, 'thoughts/suggestions': 0.03333333333333333, 'whereas': 0.06666666666666667, 'not': 0.06666666666666667, 'knowing': 0.03333333333333333, 'them': 0.1, 'counter': 0.03333333333333333, 'unconsciously': 0.03333333333333333, 'accept': 0.03333333333333333, 'lead': 0.03333333333333333, 'us': 0.03333333333333333, 'those': 0.03333333333333333, 'worst': 0.03333333333333333, 'scenarios/circumstances': 0.03333333333333333, 'book': 0.03333333333333333, 'life': 0.2, 'write': 0.03333333333333333, 'matters': 0.03333333333333333, 'mental': 0.03333333333333333, 'healing': 0.06666666666666667, 'in': 0.26666666666666666, 'ancient': 0.03333333333333333, 'vs': 0.03333333333333333, 'modern': 0.03333333333333333, 'times': 0.03333333333333333, 'almost': 0.03333333333333333, 'law': 0.03333333333333333, 'belief': 0.03333333333333333, 'do': 0.2, 'believe': 0.1, 'yourself': 0.06666666666666667, 'universe': 0.06666666666666667, 'as': 0.1, 'done': 0.03333333333333333, 'unto': 0.03333333333333333, 'vital': 0.06666666666666667, 'step': 0.03333333333333333, 'success': 0.03333333333333333, 'firstly': 0.03333333333333333, 'find': 0.06666666666666667, 'out': 0.03333333333333333, 'love': 0.13333333333333333, 'then': 0.03333333333333333, 'case': 0.03333333333333333, 'really': 0.06666666666666667, 'don’t': 0.03333333333333333, 'know': 0.13333333333333333, 'achieve': 0.03333333333333333, 'on': 0.06666666666666667, 'earth': 0.03333333333333333, 'a': 0.13333333333333333, 'field': 0.03333333333333333, 'effort': 0.03333333333333333, 'pray': 0.03333333333333333, 'for': 0.03333333333333333, 'guidance': 0.03333333333333333, 'way': 0.03333333333333333, 'infinite': 0.03333333333333333, 'intelligence': 0.03333333333333333, 'my': 0.06666666666666667, 'reveals': 0.03333333333333333, 'me': 0.03333333333333333, 'place': 0.06666666666666667, 'never': 0.03333333333333333, 'rest': 0.03333333333333333, 'always': 0.06666666666666667, 'active': 0.03333333333333333, 'controlling': 0.03333333333333333, 'forces': 0.03333333333333333, 'however': 0.03333333333333333, 'process': 0.03333333333333333, 'more': 0.03333333333333333, 'rapidly': 0.03333333333333333, 'while': 0.03333333333333333, 'asleep': 0.03333333333333333, 'trust': 0.03333333333333333, 'completely': 0.03333333333333333, 'its': 0.03333333333333333, 'tendency': 0.03333333333333333, 'wards': 0.03333333333333333, 'responds': 0.03333333333333333, 'very': 0.03333333333333333, 'vivid': 0.03333333333333333, 'dreams': 0.03333333333333333, 'diets': 0.03333333333333333, 'multivitamins': 0.03333333333333333, 'supports': 0.03333333333333333, 'kinds': 0.03333333333333333, 'keep': 0.03333333333333333, 'these': 0.03333333333333333, 'people': 0.03333333333333333, 'young': 0.1, 'they': 0.06666666666666667, 'must': 0.03333333333333333, 'realize': 0.03333333333333333, 'grow': 0.03333333333333333, 'old': 0.03333333333333333, 'remain': 0.06666666666666667, 'accordance': 0.03333333333333333, 'their': 0.03333333333333333, 'processes': 0.03333333333333333, 'thinking': 0.03333333333333333, 'conditioned': 0.03333333333333333, 'thoughts': 0.1, 'constantly': 0.03333333333333333, 'beautiful': 0.03333333333333333, 'noble': 0.03333333333333333, 'good': 0.03333333333333333, 'spiritually': 0.03333333333333333, 'regardless': 0.03333333333333333, 'chronological': 0.03333333333333333, 'years': 0.03333333333333333, 'woman': 0.03333333333333333, 'once': 0.03333333333333333, 'asked': 0.03333333333333333, 'thomas': 0.03333333333333333, 'edison': 0.03333333333333333, 'electrical': 0.03333333333333333, 'wizard': 0.03333333333333333, 'electricity': 0.06666666666666667, 'he': 0.03333333333333333, 'replied': 0.03333333333333333, 'madame': 0.03333333333333333, 'use': 0.03333333333333333, 'applies': 0.03333333333333333, 'well': 0.03333333333333333, 'cannot': 0.06666666666666667, 'see': 0.06666666666666667, 'but': 0.06666666666666667, 'have': 0.06666666666666667, 'spirit': 0.1, 'game': 0.03333333333333333, 'likewise': 0.03333333333333333, 'goodness': 0.03333333333333333, 'truth': 0.03333333333333333, 'beauty': 0.03333333333333333, 'moving': 0.03333333333333333, 'heart': 0.03333333333333333, 'real': 0.03333333333333333, 'can': 0.06666666666666667, 'definitely': 0.03333333333333333, 'wonders': 0.03333333333333333, 'feed': 0.03333333333333333, 'positivity': 0.03333333333333333, \"you're\": 0.03333333333333333, 'only': 0.03333333333333333, 'thinker': 0.03333333333333333, 'creative': 0.03333333333333333, 'creativity': 0.03333333333333333, 'happens': 0.03333333333333333, 'every': 0.03333333333333333, 'builder': 0.03333333333333333, 'heal': 0.03333333333333333}\n",
            "[So it all starts with what the Subconscious Mind is all about, how it works, where your mind is the captain of your ship, your body is your environment and the Subconscious part takes order from the captain or the master of this ship.\n",
            ", Now it's totally upto the one how and by which means to take order and to proceed with.\n",
            "\n",
            ", You think with your conscious mind, & whatever you habitually think goes into your Subconscious Mind., Your Subconscious Mind accepts any suggestion, no matter if it's true or false and so is the different reaction to the same suggestion., What all matter is what suggestions you are taking up to?, Your Subconscious has the answer to all problems., IF you suggest to your Subconscious prior to sleep, “I want to get up at 6 A.M.,” it will awaken you at that exact time.\n",
            "\n",
            ", The day we are born, we are bombarded with the tons of negative thoughts/suggestions, whereas not knowing them how to counter them, we unconsciously accept them and so it lead us to those worst scenarios/circumstances.\n",
            ", Your Subconscious is your book of life, so how you write it from the day one, matters all.\n",
            ", Mental healing in the ancient vs the modern times, almost works the same, whereas the Law of life is belief what do you believe about yourself, life and the universe as \"It is done unto you as you believe\"\n",
            "\n",
            "The vital step to success is to firstly find out what you love to do and then do it what you love., In that case, if you really don’t know what you really love to do, what you want to achieve, or how on earth do you find a field of effort that you will love so pray for guidance in this way,\n",
            "\"The infinite intelligence of my Subconscious Mind reveals to me my true place in life., \"\n",
            "\n",
            "Your Subconscious Mind never sleep or rest, it is always active, controlling all your vital forces., However the healing process takes place takes more rapidly while you are asleep.\n",
            ", So trust your Subconscious Mind completely, know that its tendency is always life wards., It responds you in very vivid dreams.\n",
            "\n",
            ", Diets, multivitamins and supports of all kinds will not keep these people young., They must realize that they grow old or remain young in accordance with their processes of thinking., Your subconscious mind is conditioned by your thoughts., If your thoughts are constantly on the beautiful, the Noble and the good, you will remain spiritually young regardless of your chronological years.\n",
            ", A woman once asked Thomas Edison, the electrical wizard \"What is electricity\"\n",
            "He replied \"Madame, electricity is, USE IT\"\n",
            "So same applies to life as well.\n",
            "\n",
            ", You cannot see your mind, but you know what have a mind., You cannot see a spirit, but you know you have the spirit of game., Likewise, the spirit of goodness, truth and beauty moving in your mind and heart are real.\n",
            ", Believe in yourself & you can definitely do wonders.\n",
            ", Feed your subconscious mind with the positivity, you're the only thinker of your universe & your thoughts are creative, & so creativity happens every time., Your subconscious mind is the builder of the body & can heal you.]\n"
          ]
        }
      ]
    },
    {
      "cell_type": "code",
      "source": [
        "sentence_scores = {}\n",
        "for sent in sentence_tokens:\n",
        "  for word in sent:\n",
        "    if word.text.lower() in word_frequencies.keys():\n",
        "      if sent not in sentence_scores.keys():\n",
        "        sentence_scores[sent] = word_frequencies[word.text.lower()]\n",
        "      else:\n",
        "        sentence_scores[sent] += word_frequencies[word.text.lower()]\n",
        "sentence_scores"
      ],
      "metadata": {
        "colab": {
          "base_uri": "https://localhost:8080/"
        },
        "id": "EEkJHl8z-Gl6",
        "outputId": "8dfe62e5-fb93-4b36-df98-56c644da2cd9"
      },
      "execution_count": 12,
      "outputs": [
        {
          "output_type": "execute_result",
          "data": {
            "text/plain": [
              "{So it all starts with what the Subconscious Mind is all about, how it works, where your mind is the captain of your ship, your body is your environment and the Subconscious part takes order from the captain or the master of this ship.: 15.999999999999998,\n",
              " Now it's totally upto the one how and by which means to take order and to proceed with.\n",
              " : 4.0,\n",
              " You think with your conscious mind, & whatever you habitually think goes into your Subconscious Mind.: 5.366666666666667,\n",
              " Your Subconscious Mind accepts any suggestion, no matter if it's true or false and so is the different reaction to the same suggestion.: 6.6,\n",
              " What all matter is what suggestions you are taking up to?: 3.2666666666666666,\n",
              " Your Subconscious has the answer to all problems.: 3.133333333333333,\n",
              " IF you suggest to your Subconscious prior to sleep, “I want to get up at 6 A.M.,” it will awaken you at that exact time.\n",
              " : 6.033333333333332,\n",
              " The day we are born, we are bombarded with the tons of negative thoughts/suggestions, whereas not knowing them how to counter them, we unconsciously accept them and so it lead us to those worst scenarios/circumstances.: 6.733333333333331,\n",
              " Your Subconscious is your book of life, so how you write it from the day one, matters all.: 6.366666666666665,\n",
              " Mental healing in the ancient vs the modern times, almost works the same, whereas the Law of life is belief what do you believe about yourself, life and the universe as \"It is done unto you as you believe\"\n",
              " \n",
              " The vital step to success is to firstly find out what you love to do and then do it what you love.: 19.46666666666666,\n",
              " In that case, if you really don’t know what you really love to do, what you want to achieve, or how on earth do you find a field of effort that you will love so pray for guidance in this way,\n",
              " \"The infinite intelligence of my Subconscious Mind reveals to me my true place in life.: 13.966666666666665,\n",
              " \"\n",
              " \n",
              " Your Subconscious Mind never sleep or rest, it is always active, controlling all your vital forces.: 4.1000000000000005,\n",
              " However the healing process takes place takes more rapidly while you are asleep.: 2.6333333333333337,\n",
              " So trust your Subconscious Mind completely, know that its tendency is always life wards.: 3.1999999999999997,\n",
              " It responds you in very vivid dreams.\n",
              " : 1.6000000000000003,\n",
              " Diets, multivitamins and supports of all kinds will not keep these people young.: 1.6000000000000005,\n",
              " They must realize that they grow old or remain young in accordance with their processes of thinking.: 1.8333333333333337,\n",
              " Your subconscious mind is conditioned by your thoughts.: 3.2000000000000006,\n",
              " If your thoughts are constantly on the beautiful, the Noble and the good, you will remain spiritually young regardless of your chronological years.: 7.4,\n",
              " A woman once asked Thomas Edison, the electrical wizard \"What is electricity\"\n",
              " He replied \"Madame, electricity is, USE IT\"\n",
              " So same applies to life as well.\n",
              " : 4.6,\n",
              " You cannot see your mind, but you know what have a mind.: 4.4,\n",
              " You cannot see a spirit, but you know you have the spirit of game.: 4.9,\n",
              " Likewise, the spirit of goodness, truth and beauty moving in your mind and heart are real.: 4.3,\n",
              " Believe in yourself & you can definitely do wonders.: 1.8000000000000003,\n",
              " Feed your subconscious mind with the positivity, you're the only thinker of your universe & your thoughts are creative, & so creativity happens every time.: 8.166666666666666,\n",
              " Your subconscious mind is the builder of the body & can heal you.: 5.9}"
            ]
          },
          "metadata": {},
          "execution_count": 12
        }
      ]
    },
    {
      "cell_type": "code",
      "source": [
        "from heapq import nlargest\n",
        "select_length = int(len(sentence_tokens)*0.3)\n",
        "select_length\n",
        "summary = nlargest(select_length, sentence_scores, key = sentence_scores.get)\n",
        "summary\n",
        "final_summary = [word.text for word in summary]\n",
        "summary = ''.join(final_summary)\n",
        "print(summary)\n"
      ],
      "metadata": {
        "colab": {
          "base_uri": "https://localhost:8080/"
        },
        "id": "Jaf4V58qmQMk",
        "outputId": "8f4b6e96-e3d8-45cf-92ce-d15c712dc074"
      },
      "execution_count": 13,
      "outputs": [
        {
          "output_type": "stream",
          "name": "stdout",
          "text": [
            "Mental healing in the ancient vs the modern times, almost works the same, whereas the Law of life is belief what do you believe about yourself, life and the universe as \"It is done unto you as you believe\"\n",
            "\n",
            "The vital step to success is to firstly find out what you love to do and then do it what you love.So it all starts with what the Subconscious Mind is all about, how it works, where your mind is the captain of your ship, your body is your environment and the Subconscious part takes order from the captain or the master of this ship.\n",
            "In that case, if you really don’t know what you really love to do, what you want to achieve, or how on earth do you find a field of effort that you will love so pray for guidance in this way,\n",
            "\"The infinite intelligence of my Subconscious Mind reveals to me my true place in life.Feed your subconscious mind with the positivity, you're the only thinker of your universe & your thoughts are creative, & so creativity happens every time.If your thoughts are constantly on the beautiful, the Noble and the good, you will remain spiritually young regardless of your chronological years.\n",
            "The day we are born, we are bombarded with the tons of negative thoughts/suggestions, whereas not knowing them how to counter them, we unconsciously accept them and so it lead us to those worst scenarios/circumstances.\n",
            "Your Subconscious Mind accepts any suggestion, no matter if it's true or false and so is the different reaction to the same suggestion.\n"
          ]
        }
      ]
    },
    {
      "cell_type": "code",
      "source": [],
      "metadata": {
        "id": "YNWl1SHW9Rtv"
      },
      "execution_count": null,
      "outputs": []
    },
    {
      "cell_type": "code",
      "source": [
        "summary"
      ],
      "metadata": {
        "colab": {
          "base_uri": "https://localhost:8080/",
          "height": 35
        },
        "id": "X3zqXi8rmi6c",
        "outputId": "f092c957-eee9-407e-ceaa-1e7666de5d1e"
      },
      "execution_count": null,
      "outputs": [
        {
          "output_type": "execute_result",
          "data": {
            "text/plain": [
              "''"
            ],
            "application/vnd.google.colaboratory.intrinsic+json": {
              "type": "string"
            }
          },
          "metadata": {},
          "execution_count": 19
        }
      ]
    }
  ]
}