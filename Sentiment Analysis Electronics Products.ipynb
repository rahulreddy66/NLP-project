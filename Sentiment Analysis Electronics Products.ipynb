{
 "cells": [
  {
   "cell_type": "markdown",
   "id": "3bc4a945",
   "metadata": {},
   "source": [
    "## Amazon Electronics Product review sentiment analyzer\n",
    "\n",
    "\n",
    "\n",
    "### Problem Statement\n",
    "\n",
    "Develop a sentiment analysis model using machine learning techniques in a Jupyter Notebook for the Amazon electronic product reviews dataset. The goal is to classify the sentiment of the reviews as positive, negative, or neutral based on the text content. The model should be able to accurately predict the sentiment of new reviews and provide insights into customer opinions regarding electronic products on Amazon.\n",
    "\n",
    "### Dataset Details\n",
    "\n",
    "The dataset can be found on Kaggle at the following link: Amazon Reviews 2018 (Electronics). It contains a collection of reviews for electronic products sold on Amazon, along with corresponding ratings and other metadata. The dataset will be used to train and test the sentiment analysis model.The dataset is available in kaggle at this [Link](https://www.kaggle.com/datasets/magdawjcicka/amazon-reviews-2018-electronics)."
   ]
  },
  {
   "cell_type": "code",
   "execution_count": 1,
   "id": "4fc13d6a",
   "metadata": {},
   "outputs": [
    {
     "name": "stderr",
     "output_type": "stream",
     "text": [
      "C:\\Users\\sid32\\anaconda3\\lib\\site-packages\\scipy\\__init__.py:155: UserWarning: A NumPy version >=1.18.5 and <1.25.0 is required for this version of SciPy (detected version 1.26.4\n",
      "  warnings.warn(f\"A NumPy version >={np_minversion} and <{np_maxversion}\"\n"
     ]
    }
   ],
   "source": [
    "import pandas as pd\n",
    "import itertools # confusion matrix\n",
    "import string\n",
    "import numpy as np\n",
    "import seaborn as sns\n",
    "from sklearn.feature_extraction.text import CountVectorizer, TfidfVectorizer\n",
    "from sklearn.model_selection import train_test_split\n",
    "from sklearn.naive_bayes import MultinomialNB\n",
    "from sklearn import metrics\n",
    "import matplotlib.pyplot as plt\n",
    "from sklearn.ensemble import RandomForestClassifier\n",
    "from sklearn.linear_model import PassiveAggressiveClassifier\n",
    "%matplotlib inline\n",
    "# To show all the rows of pandas dataframe\n",
    "pd.set_option('display.max_rows', None)"
   ]
  },
  {
   "cell_type": "code",
   "execution_count": 2,
   "id": "5b0004a1",
   "metadata": {},
   "outputs": [
    {
     "name": "stderr",
     "output_type": "stream",
     "text": [
      "C:\\Users\\sid32\\anaconda3\\lib\\site-packages\\IPython\\core\\interactiveshell.py:3457: DtypeWarning: Columns (5) have mixed types.Specify dtype option on import or set low_memory=False.\n",
      "  exec(code_obj, self.user_global_ns, self.user_ns)\n"
     ]
    }
   ],
   "source": [
    "df = pd.read_csv('electronics_small.csv')"
   ]
  },
  {
   "cell_type": "code",
   "execution_count": 3,
   "id": "69539ddd",
   "metadata": {},
   "outputs": [
    {
     "data": {
      "text/html": [
       "<div>\n",
       "<style scoped>\n",
       "    .dataframe tbody tr th:only-of-type {\n",
       "        vertical-align: middle;\n",
       "    }\n",
       "\n",
       "    .dataframe tbody tr th {\n",
       "        vertical-align: top;\n",
       "    }\n",
       "\n",
       "    .dataframe thead th {\n",
       "        text-align: right;\n",
       "    }\n",
       "</style>\n",
       "<table border=\"1\" class=\"dataframe\">\n",
       "  <thead>\n",
       "    <tr style=\"text-align: right;\">\n",
       "      <th></th>\n",
       "      <th>overall</th>\n",
       "      <th>vote</th>\n",
       "      <th>verified</th>\n",
       "      <th>reviewTime</th>\n",
       "      <th>reviewText</th>\n",
       "      <th>summary</th>\n",
       "    </tr>\n",
       "  </thead>\n",
       "  <tbody>\n",
       "    <tr>\n",
       "      <th>0</th>\n",
       "      <td>5</td>\n",
       "      <td>67</td>\n",
       "      <td>True</td>\n",
       "      <td>1999-09-18</td>\n",
       "      <td>This is the best novel I have read in 2 or 3 y...</td>\n",
       "      <td>A star is born</td>\n",
       "    </tr>\n",
       "    <tr>\n",
       "      <th>1</th>\n",
       "      <td>3</td>\n",
       "      <td>5</td>\n",
       "      <td>True</td>\n",
       "      <td>2013-10-23</td>\n",
       "      <td>Pages and pages of introspection, in the style...</td>\n",
       "      <td>A stream of consciousness novel</td>\n",
       "    </tr>\n",
       "    <tr>\n",
       "      <th>2</th>\n",
       "      <td>5</td>\n",
       "      <td>4</td>\n",
       "      <td>True</td>\n",
       "      <td>2008-09-02</td>\n",
       "      <td>This is the kind of novel to read when you hav...</td>\n",
       "      <td>I'm a huge fan of the author and this one did ...</td>\n",
       "    </tr>\n",
       "    <tr>\n",
       "      <th>3</th>\n",
       "      <td>5</td>\n",
       "      <td>13</td>\n",
       "      <td>True</td>\n",
       "      <td>2000-09-04</td>\n",
       "      <td>What gorgeous language! What an incredible wri...</td>\n",
       "      <td>The most beautiful book I have ever read!</td>\n",
       "    </tr>\n",
       "    <tr>\n",
       "      <th>4</th>\n",
       "      <td>3</td>\n",
       "      <td>8</td>\n",
       "      <td>True</td>\n",
       "      <td>2000-02-04</td>\n",
       "      <td>I was taken in by reviews that compared this b...</td>\n",
       "      <td>A dissenting view--In part.</td>\n",
       "    </tr>\n",
       "  </tbody>\n",
       "</table>\n",
       "</div>"
      ],
      "text/plain": [
       "   overall  vote  verified  reviewTime  \\\n",
       "0        5    67      True  1999-09-18   \n",
       "1        3     5      True  2013-10-23   \n",
       "2        5     4      True  2008-09-02   \n",
       "3        5    13      True  2000-09-04   \n",
       "4        3     8      True  2000-02-04   \n",
       "\n",
       "                                          reviewText  \\\n",
       "0  This is the best novel I have read in 2 or 3 y...   \n",
       "1  Pages and pages of introspection, in the style...   \n",
       "2  This is the kind of novel to read when you hav...   \n",
       "3  What gorgeous language! What an incredible wri...   \n",
       "4  I was taken in by reviews that compared this b...   \n",
       "\n",
       "                                             summary  \n",
       "0                                     A star is born  \n",
       "1                    A stream of consciousness novel  \n",
       "2  I'm a huge fan of the author and this one did ...  \n",
       "3          The most beautiful book I have ever read!  \n",
       "4                        A dissenting view--In part.  "
      ]
     },
     "execution_count": 3,
     "metadata": {},
     "output_type": "execute_result"
    }
   ],
   "source": [
    "df.head()"
   ]
  },
  {
   "cell_type": "code",
   "execution_count": 4,
   "id": "af5854cf",
   "metadata": {},
   "outputs": [
    {
     "data": {
      "text/plain": [
       "(3000000, 6)"
      ]
     },
     "execution_count": 4,
     "metadata": {},
     "output_type": "execute_result"
    }
   ],
   "source": [
    "df.shape"
   ]
  },
  {
   "cell_type": "code",
   "execution_count": 6,
   "id": "46b33899",
   "metadata": {},
   "outputs": [
    {
     "data": {
      "text/plain": [
       "5    1909431\n",
       "4     520339\n",
       "3     228272\n",
       "1     205790\n",
       "2     136168\n",
       "Name: overall, dtype: int64"
      ]
     },
     "execution_count": 6,
     "metadata": {},
     "output_type": "execute_result"
    }
   ],
   "source": [
    "df.overall.value_counts()"
   ]
  },
  {
   "cell_type": "code",
   "execution_count": 7,
   "id": "9f8fa349",
   "metadata": {},
   "outputs": [],
   "source": [
    "# Define a function to categorize sentiment\n",
    "def categorize_sentiment(overall):\n",
    "    if overall >= 3:\n",
    "        return 0\n",
    "    \n",
    "    else:\n",
    "        return 1\n",
    "\n",
    "# Create new column 'sentiment'\n",
    "df['sentiment'] = df['overall'].apply(categorize_sentiment)"
   ]
  },
  {
   "cell_type": "code",
   "execution_count": 8,
   "id": "b23840de",
   "metadata": {},
   "outputs": [
    {
     "data": {
      "text/plain": [
       "0    2658042\n",
       "1     341958\n",
       "Name: sentiment, dtype: int64"
      ]
     },
     "execution_count": 8,
     "metadata": {},
     "output_type": "execute_result"
    }
   ],
   "source": [
    "df.sentiment.value_counts()"
   ]
  },
  {
   "cell_type": "code",
   "execution_count": 9,
   "id": "4804c31a",
   "metadata": {},
   "outputs": [],
   "source": [
    "# Count of each sentiment category\n",
    "sentiment_counts = df['sentiment'].value_counts()\n",
    "\n",
    "# Find the minimum count among all sentiment categories\n",
    "min_count = sentiment_counts.min()\n",
    "\n",
    "# Sample from positive sentiment records to match the minimum count\n",
    "sampled_df = df.groupby('sentiment', group_keys=False).apply(lambda x: x.sample(min_count))\n"
   ]
  },
  {
   "cell_type": "code",
   "execution_count": 10,
   "id": "9ac2b037",
   "metadata": {},
   "outputs": [
    {
     "data": {
      "text/plain": [
       "0    341958\n",
       "1    341958\n",
       "Name: sentiment, dtype: int64"
      ]
     },
     "execution_count": 10,
     "metadata": {},
     "output_type": "execute_result"
    }
   ],
   "source": [
    "sampled_df.sentiment.value_counts()"
   ]
  },
  {
   "cell_type": "code",
   "execution_count": 11,
   "id": "a2faed74",
   "metadata": {},
   "outputs": [
    {
     "data": {
      "text/plain": [
       "Index(['overall', 'vote', 'verified', 'reviewTime', 'reviewText', 'summary',\n",
       "       'sentiment'],\n",
       "      dtype='object')"
      ]
     },
     "execution_count": 11,
     "metadata": {},
     "output_type": "execute_result"
    }
   ],
   "source": [
    "sampled_df.columns"
   ]
  },
  {
   "cell_type": "code",
   "execution_count": 12,
   "id": "a976b7fb",
   "metadata": {},
   "outputs": [],
   "source": [
    "X = sampled_df.drop(['overall','vote','verified','reviewTime','summary'],axis=1)"
   ]
  },
  {
   "cell_type": "code",
   "execution_count": 15,
   "id": "5b2f1144",
   "metadata": {},
   "outputs": [
    {
     "data": {
      "text/html": [
       "<div>\n",
       "<style scoped>\n",
       "    .dataframe tbody tr th:only-of-type {\n",
       "        vertical-align: middle;\n",
       "    }\n",
       "\n",
       "    .dataframe tbody tr th {\n",
       "        vertical-align: top;\n",
       "    }\n",
       "\n",
       "    .dataframe thead th {\n",
       "        text-align: right;\n",
       "    }\n",
       "</style>\n",
       "<table border=\"1\" class=\"dataframe\">\n",
       "  <thead>\n",
       "    <tr style=\"text-align: right;\">\n",
       "      <th></th>\n",
       "      <th>reviewText</th>\n",
       "      <th>sentiment</th>\n",
       "    </tr>\n",
       "  </thead>\n",
       "  <tbody>\n",
       "    <tr>\n",
       "      <th>671245</th>\n",
       "      <td>Nav-Mat is a great solution...</td>\n",
       "      <td>0</td>\n",
       "    </tr>\n",
       "    <tr>\n",
       "      <th>1118927</th>\n",
       "      <td>Good, but still in development</td>\n",
       "      <td>0</td>\n",
       "    </tr>\n",
       "    <tr>\n",
       "      <th>1002886</th>\n",
       "      <td>Works very well, but a bit bulky</td>\n",
       "      <td>0</td>\n",
       "    </tr>\n",
       "    <tr>\n",
       "      <th>1691121</th>\n",
       "      <td>I've got four sets of headphones on duty in th...</td>\n",
       "      <td>0</td>\n",
       "    </tr>\n",
       "    <tr>\n",
       "      <th>1853696</th>\n",
       "      <td>This is okay.  There is a usb cord that needs ...</td>\n",
       "      <td>0</td>\n",
       "    </tr>\n",
       "  </tbody>\n",
       "</table>\n",
       "</div>"
      ],
      "text/plain": [
       "                                                reviewText  sentiment\n",
       "671245                      Nav-Mat is a great solution...          0\n",
       "1118927                     Good, but still in development          0\n",
       "1002886                   Works very well, but a bit bulky          0\n",
       "1691121  I've got four sets of headphones on duty in th...          0\n",
       "1853696  This is okay.  There is a usb cord that needs ...          0"
      ]
     },
     "execution_count": 15,
     "metadata": {},
     "output_type": "execute_result"
    }
   ],
   "source": [
    "X.head()"
   ]
  },
  {
   "cell_type": "code",
   "execution_count": 16,
   "id": "99bd7a35",
   "metadata": {},
   "outputs": [],
   "source": [
    "X = X.reset_index()"
   ]
  },
  {
   "cell_type": "code",
   "execution_count": 17,
   "id": "99c3c29d",
   "metadata": {},
   "outputs": [
    {
     "data": {
      "text/plain": [
       "'Good, but still in development'"
      ]
     },
     "execution_count": 17,
     "metadata": {},
     "output_type": "execute_result"
    }
   ],
   "source": [
    "X.loc[1, 'reviewText']"
   ]
  },
  {
   "cell_type": "code",
   "execution_count": 19,
   "id": "e0dbb9f1",
   "metadata": {},
   "outputs": [],
   "source": [
    "X['reviewText'] = X['reviewText'].str.replace('\\n', '')\n",
    "X['reviewText'] = X['reviewText'].str.replace('\\'s', '')\n",
    "X['reviewText'] = X['reviewText'].str.replace('\"', '')\n",
    "X['reviewText'] = X['reviewText'].str.replace('n\\'t', ' not')"
   ]
  },
  {
   "cell_type": "code",
   "execution_count": 21,
   "id": "98ba45f0",
   "metadata": {},
   "outputs": [
    {
     "data": {
      "text/plain": [
       "'Great slim feel and responsive tip. Would continue to use this stylus. Great colors and can also use on iphone'"
      ]
     },
     "execution_count": 21,
     "metadata": {},
     "output_type": "execute_result"
    }
   ],
   "source": [
    "X.loc[15, 'reviewText']"
   ]
  },
  {
   "cell_type": "code",
   "execution_count": 22,
   "id": "5aa110ec",
   "metadata": {},
   "outputs": [],
   "source": [
    "from nltk.corpus import stopwords\n",
    "\n",
    "stop = stopwords.words('english')"
   ]
  },
  {
   "cell_type": "code",
   "execution_count": 23,
   "id": "109c8581",
   "metadata": {},
   "outputs": [],
   "source": [
    "from nltk.stem import WordNetLemmatizer\n",
    "from nltk.stem import PorterStemmer\n",
    "\n",
    "porter = PorterStemmer()\n",
    "\n",
    "lemmatizer = WordNetLemmatizer()"
   ]
  },
  {
   "cell_type": "code",
   "execution_count": 24,
   "id": "6855507b",
   "metadata": {},
   "outputs": [],
   "source": [
    "from bs4 import BeautifulSoup\n",
    "import re"
   ]
  },
  {
   "cell_type": "code",
   "execution_count": 25,
   "id": "f4845139",
   "metadata": {},
   "outputs": [],
   "source": [
    "def review_to_words(raw_review):\n",
    "    \n",
    "    # 2. Make a space\n",
    "    raw_review = str(raw_review)\n",
    "    letters_only = re.sub('[^a-zA-Z]', ' ', raw_review)\n",
    "    # 3. lower letters\n",
    "    words = letters_only.lower().split()\n",
    "    # 5. Stopwords \n",
    "    meaningful_words = [w for w in words if not w in stop]\n",
    "    # 6. lemmitization\n",
    "    lemmitize_words = [lemmatizer.lemmatize(w) for w in meaningful_words]\n",
    "    # 7. space join words\n",
    "    return( ' '.join(lemmitize_words))"
   ]
  },
  {
   "cell_type": "code",
   "execution_count": 26,
   "id": "25e66e79",
   "metadata": {},
   "outputs": [],
   "source": [
    "X['review_clean'] = X['reviewText'].apply(review_to_words)"
   ]
  },
  {
   "cell_type": "code",
   "execution_count": 27,
   "id": "9400d2ca",
   "metadata": {},
   "outputs": [
    {
     "data": {
      "text/html": [
       "<div>\n",
       "<style scoped>\n",
       "    .dataframe tbody tr th:only-of-type {\n",
       "        vertical-align: middle;\n",
       "    }\n",
       "\n",
       "    .dataframe tbody tr th {\n",
       "        vertical-align: top;\n",
       "    }\n",
       "\n",
       "    .dataframe thead th {\n",
       "        text-align: right;\n",
       "    }\n",
       "</style>\n",
       "<table border=\"1\" class=\"dataframe\">\n",
       "  <thead>\n",
       "    <tr style=\"text-align: right;\">\n",
       "      <th></th>\n",
       "      <th>index</th>\n",
       "      <th>reviewText</th>\n",
       "      <th>sentiment</th>\n",
       "      <th>review_clean</th>\n",
       "    </tr>\n",
       "  </thead>\n",
       "  <tbody>\n",
       "    <tr>\n",
       "      <th>0</th>\n",
       "      <td>671245</td>\n",
       "      <td>Nav-Mat is a great solution...</td>\n",
       "      <td>0</td>\n",
       "      <td>nav mat great solution</td>\n",
       "    </tr>\n",
       "    <tr>\n",
       "      <th>1</th>\n",
       "      <td>1118927</td>\n",
       "      <td>Good, but still in development</td>\n",
       "      <td>0</td>\n",
       "      <td>good still development</td>\n",
       "    </tr>\n",
       "    <tr>\n",
       "      <th>2</th>\n",
       "      <td>1002886</td>\n",
       "      <td>Works very well, but a bit bulky</td>\n",
       "      <td>0</td>\n",
       "      <td>work well bit bulky</td>\n",
       "    </tr>\n",
       "    <tr>\n",
       "      <th>3</th>\n",
       "      <td>1691121</td>\n",
       "      <td>I've got four sets of headphones on duty in th...</td>\n",
       "      <td>0</td>\n",
       "      <td>got four set headphone duty household happy ge...</td>\n",
       "    </tr>\n",
       "    <tr>\n",
       "      <th>4</th>\n",
       "      <td>1853696</td>\n",
       "      <td>This is okay.  There is a usb cord that needs ...</td>\n",
       "      <td>0</td>\n",
       "      <td>okay usb cord need plugged splitter computer s...</td>\n",
       "    </tr>\n",
       "  </tbody>\n",
       "</table>\n",
       "</div>"
      ],
      "text/plain": [
       "     index                                         reviewText  sentiment  \\\n",
       "0   671245                     Nav-Mat is a great solution...          0   \n",
       "1  1118927                     Good, but still in development          0   \n",
       "2  1002886                   Works very well, but a bit bulky          0   \n",
       "3  1691121  I've got four sets of headphones on duty in th...          0   \n",
       "4  1853696  This is okay.  There is a usb cord that needs ...          0   \n",
       "\n",
       "                                        review_clean  \n",
       "0                             nav mat great solution  \n",
       "1                             good still development  \n",
       "2                                work well bit bulky  \n",
       "3  got four set headphone duty household happy ge...  \n",
       "4  okay usb cord need plugged splitter computer s...  "
      ]
     },
     "execution_count": 27,
     "metadata": {},
     "output_type": "execute_result"
    }
   ],
   "source": [
    "X.head()"
   ]
  },
  {
   "cell_type": "code",
   "execution_count": 28,
   "id": "cb6965ff",
   "metadata": {},
   "outputs": [],
   "source": [
    "X_feat=X['review_clean']\n",
    "y=X['sentiment']"
   ]
  },
  {
   "cell_type": "code",
   "execution_count": 29,
   "id": "4d8a4310",
   "metadata": {},
   "outputs": [],
   "source": [
    "X_train, X_test, y_train, y_test = train_test_split(X_feat, y,stratify=y,test_size=0.2, random_state=123)"
   ]
  },
  {
   "cell_type": "code",
   "execution_count": 30,
   "id": "b35ecae0",
   "metadata": {},
   "outputs": [],
   "source": [
    "def plot_confusion_matrix(cm, classes,\n",
    "                          normalize=False,\n",
    "                          title='Confusion matrix',\n",
    "                          cmap=plt.cm.Blues):\n",
    "    \"\"\"\n",
    "    See full source and example: \n",
    "    http://scikit-learn.org/stable/auto_examples/model_selection/plot_confusion_matrix.html\n",
    "    \n",
    "    This function prints and plots the confusion matrix.\n",
    "    Normalization can be applied by setting `normalize=True`.\n",
    "    \"\"\"\n",
    "    plt.imshow(cm, interpolation='nearest', cmap=cmap)\n",
    "    plt.title(title)\n",
    "    plt.colorbar()\n",
    "    tick_marks = np.arange(len(classes))\n",
    "    plt.xticks(tick_marks, classes, rotation=45)\n",
    "    plt.yticks(tick_marks, classes)\n",
    "\n",
    "    if normalize:\n",
    "        cm = cm.astype('float') / cm.sum(axis=1)[:, np.newaxis]\n",
    "        print(\"Normalized confusion matrix\")\n",
    "    else:\n",
    "        print('Confusion matrix, without normalization')\n",
    "\n",
    "    thresh = cm.max() / 2.\n",
    "    for i, j in itertools.product(range(cm.shape[0]), range(cm.shape[1])):\n",
    "        plt.text(j, i, cm[i, j],\n",
    "                 horizontalalignment=\"center\",\n",
    "                 color=\"white\" if cm[i, j] > thresh else \"black\")\n",
    "\n",
    "    plt.tight_layout()\n",
    "    plt.ylabel('True label')\n",
    "    plt.xlabel('Predicted label')"
   ]
  },
  {
   "cell_type": "markdown",
   "id": "831e8a99",
   "metadata": {},
   "source": [
    "### Vectorization"
   ]
  },
  {
   "cell_type": "code",
   "execution_count": 31,
   "id": "2619f4cb",
   "metadata": {},
   "outputs": [],
   "source": [
    "from sklearn.feature_extraction.text import TfidfVectorizer\n",
    "\n",
    "tfidf_vectorizer2 = TfidfVectorizer(stop_words='english', max_df=0.8, ngram_range=(1,2))\n",
    "tfidf_train_2 = tfidf_vectorizer2.fit_transform(X_train)\n",
    "tfidf_test_2 = tfidf_vectorizer2.transform(X_test)"
   ]
  },
  {
   "cell_type": "markdown",
   "id": "416a16ca",
   "metadata": {},
   "source": [
    "### Model Building & Evaluation"
   ]
  },
  {
   "cell_type": "code",
   "execution_count": 33,
   "id": "e9b4de24",
   "metadata": {},
   "outputs": [
    {
     "name": "stdout",
     "output_type": "stream",
     "text": [
      "accuracy:   0.821\n",
      "Confusion matrix, without normalization\n"
     ]
    },
    {
     "data": {
      "image/png": "[encoded data removed]",
      "text/plain": [
       "<Figure size 640x480 with 2 Axes>"
      ]
     },
     "metadata": {},
     "output_type": "display_data"
    }
   ],
   "source": [
    "mnb_tf = MultinomialNB()\n",
    "mnb_tf.fit(tfidf_train_2, y_train)\n",
    "pred = mnb_tf.predict(tfidf_test_2)\n",
    "score = metrics.accuracy_score(y_test, pred)\n",
    "print(\"accuracy:   %0.3f\" % score)\n",
    "cm = metrics.confusion_matrix(y_test, pred, labels=[0, 1])\n",
    "plot_confusion_matrix(cm, classes=['POSITIVE', 'NEGATIVE'])"
   ]
  },
  {
   "cell_type": "code",
   "execution_count": 34,
   "id": "15055117",
   "metadata": {},
   "outputs": [
    {
     "name": "stdout",
     "output_type": "stream",
     "text": [
      "accuracy:   0.810\n",
      "Confusion matrix, without normalization\n"
     ]
    },
    {
     "data": {
      "image/png": "[encoded data removed]",
      "text/plain": [
       "<Figure size 640x480 with 2 Axes>"
      ]
     },
     "metadata": {},
     "output_type": "display_data"
    }
   ],
   "source": [
    "pass_tf = PassiveAggressiveClassifier()\n",
    "pass_tf.fit(tfidf_train_2, y_train)\n",
    "pred_1 = pass_tf.predict(tfidf_test_2)\n",
    "score1 = metrics.accuracy_score(y_test, pred_1)\n",
    "print(\"accuracy:   %0.3f\" % score1)\n",
    "cm = metrics.confusion_matrix(y_test, pred_1, labels=[0, 1])\n",
    "plot_confusion_matrix(cm, classes=['POSITIVE', 'NEGATIVE'])"
   ]
  },
  {
   "cell_type": "code",
   "execution_count": 38,
   "id": "c7104655",
   "metadata": {},
   "outputs": [
    {
     "name": "stdout",
     "output_type": "stream",
     "text": [
      "accuracy:   0.572\n",
      "Confusion matrix, without normalization\n"
     ]
    },
    {
     "data": {
      "image/png": "[encoded data removed]",
      "text/plain": [
       "<Figure size 640x480 with 2 Axes>"
      ]
     },
     "metadata": {},
     "output_type": "display_data"
    }
   ],
   "source": [
    "rf_ent = RandomForestClassifier(criterion='gini',max_depth=3,  n_estimators=50)\n",
    "rf_ent.fit(tfidf_train_2, y_train)\n",
    "pred_1 = rf_ent.predict(tfidf_test_2)\n",
    "score1 = metrics.accuracy_score(y_test, pred_1)\n",
    "print(\"accuracy:   %0.3f\" % score1)\n",
    "cm = metrics.confusion_matrix(y_test, pred_1, labels=[0, 1])\n",
    "plot_confusion_matrix(cm, classes=['POSITIVE', 'NEGATIVE'])"
   ]
  },
  {
   "cell_type": "code",
   "execution_count": 40,
   "id": "beee04d2",
   "metadata": {},
   "outputs": [
    {
     "name": "stderr",
     "output_type": "stream",
     "text": [
      "C:\\Users\\sid32\\anaconda3\\lib\\site-packages\\sklearn\\linear_model\\_logistic.py:814: ConvergenceWarning: lbfgs failed to converge (status=1):\n",
      "STOP: TOTAL NO. of ITERATIONS REACHED LIMIT.\n",
      "\n",
      "Increase the number of iterations (max_iter) or scale the data as shown in:\n",
      "    https://scikit-learn.org/stable/modules/preprocessing.html\n",
      "Please also refer to the documentation for alternative solver options:\n",
      "    https://scikit-learn.org/stable/modules/linear_model.html#logistic-regression\n",
      "  n_iter_i = _check_optimize_result(\n"
     ]
    },
    {
     "name": "stdout",
     "output_type": "stream",
     "text": [
      "accuracy:   0.831\n",
      "Confusion matrix, without normalization\n"
     ]
    },
    {
     "data": {
      "image/png": "[encoded data removed]",
      "text/plain": [
       "<Figure size 640x480 with 2 Axes>"
      ]
     },
     "metadata": {},
     "output_type": "display_data"
    }
   ],
   "source": [
    "from sklearn.linear_model import LogisticRegression\n",
    "lr =LogisticRegression()\n",
    "lr.fit(tfidf_train_2, y_train)\n",
    "pred_1 = lr.predict(tfidf_test_2)\n",
    "score1 = metrics.accuracy_score(y_test, pred_1)\n",
    "print(\"accuracy:   %0.3f\" % score1)\n",
    "cm = metrics.confusion_matrix(y_test, pred_1, labels=[0, 1])\n",
    "plot_confusion_matrix(cm, classes=['POSITIVE', 'NEGATIVE'])"
   ]
  },
  {
   "cell_type": "markdown",
   "id": "d3c68a42",
   "metadata": {},
   "source": [
    "### Model Saving"
   ]
  },
  {
   "cell_type": "code",
   "execution_count": 45,
   "id": "c0ddc225",
   "metadata": {},
   "outputs": [
    {
     "data": {
      "text/plain": [
       "['sent_model/logReg.pkl']"
      ]
     },
     "execution_count": 45,
     "metadata": {},
     "output_type": "execute_result"
    }
   ],
   "source": [
    "import joblib\n",
    "joblib.dump(tfidf_vectorizer2, 'sent_model/tfidfvectorizer.pkl')\n",
    "joblib.dump(lr, 'sent_model/logReg.pkl')"
   ]
  },
  {
   "cell_type": "markdown",
   "id": "3b2262ff",
   "metadata": {},
   "source": [
    "### Sample Prediction"
   ]
  },
  {
   "cell_type": "code",
   "execution_count": 44,
   "id": "4f83520e",
   "metadata": {},
   "outputs": [
    {
     "data": {
      "text/plain": [
       "54.0"
      ]
     },
     "execution_count": 44,
     "metadata": {},
     "output_type": "execute_result"
    }
   ],
   "source": [
    "vectorizer = joblib.load('tfidfvectorizer.pkl')\n",
    "model = joblib.load('logReg.pkl')\n",
    "\n",
    "prediction_proba = model.predict_proba(vectorizer.transform([\"This is one of the  product i have ever purchased in my life\"]))\n",
    "prediction_probs = round(prediction_proba[0, 1], 2)\n",
    "prediction_probs*100"
   ]
  },
  {
   "cell_type": "code",
   "execution_count": null,
   "id": "50e0f9dd",
   "metadata": {},
   "outputs": [],
   "source": []
  }
 ],
 "metadata": {
  "kernelspec": {
   "display_name": "Python 3 (ipykernel)",
   "language": "python",
   "name": "python3"
  },
  "language_info": {
   "codemirror_mode": {
    "name": "ipython",
    "version": 3
   },
   "file_extension": ".py",
   "mimetype": "text/x-python",
   "name": "python",
   "nbconvert_exporter": "python",
   "pygments_lexer": "ipython3",
   "version": "3.9.13"
  }
 },
 "nbformat": 4,
 "nbformat_minor": 5
}
